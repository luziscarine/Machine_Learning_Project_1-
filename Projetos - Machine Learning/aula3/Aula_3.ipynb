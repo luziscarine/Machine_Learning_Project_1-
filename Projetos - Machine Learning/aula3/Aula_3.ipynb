{
  "nbformat": 4,
  "nbformat_minor": 0,
  "metadata": {
    "colab": {
      "provenance": []
    },
    "kernelspec": {
      "name": "python3",
      "display_name": "Python 3"
    },
    "language_info": {
      "name": "python"
    }
  },
  "cells": [
    {
      "cell_type": "markdown",
      "source": [
        "# Realizando a implementação dos dados"
      ],
      "metadata": {
        "id": "oUqXa2cO_Rpq"
      }
    },
    {
      "cell_type": "code",
      "execution_count": null,
      "metadata": {
        "id": "ByJ6cPbuiu-G"
      },
      "outputs": [],
      "source": [
        "# Importando as bibliotecas\n",
        "import sqlite3 as sl3\n",
        "import pandas as pd\n",
        "\n",
        "conn = sl3.connect('database.db') # Estabelecendo conexao com o banco de dados\n",
        "\n",
        "consulta = \"\"\"\n",
        "\n",
        "  SELECT\n",
        "    *\n",
        "  FROM flight_activity fa LEFT JOIN flight_loyalty_history flh ON (fa.loyalty_number = flh.loyalty_number)\n",
        "\n",
        "\"\"\" # Juntando as tabelas e filtrando as colunas e linhas\n",
        "\n",
        "df_atividade = pd.read_sql_query(consulta,conn) # Lendo os dados das tabelas\n",
        "df_atividade.head() # Mostrando os dados da tabela"
      ]
    },
    {
      "cell_type": "markdown",
      "source": [
        "# Fazendo uma filtragem dos dados"
      ],
      "metadata": {
        "id": "tsO68fJ3_W4i"
      }
    },
    {
      "cell_type": "code",
      "source": [
        "df_atividade.isna().sum() # Soma de dados 'is a number' das tabelas\n",
        "colunas = [\"year\",\"month\",\"flights_booked\",\"flights_with_companions\",\"total_flights\",\"distance\",\n",
        "           \"points_accumulated\",\"salary\",\"clv\",\"loyalty_card\"]\n",
        "\n",
        "df_colunas_numericas = df_atividade.loc[:,colunas] # Armazenando as colunas no datafrane\n",
        "df_dados_completos = df_colunas_numericas.dropna() # Retirando os dados NaNs da tabela\n",
        "print(df_dados_completos.isna().sum()) #Mostrando os numeros de dados faltantes\n",
        "print(\"\\nNumero de linhas:\",df_dados_completos.shape[0], \"linhas\") # Mostrando o numero de linhas da tabela final\n",
        "\n"
      ],
      "metadata": {
        "id": "iOABSXGg163H"
      },
      "execution_count": null,
      "outputs": []
    },
    {
      "cell_type": "markdown",
      "source": [
        "#Aplicando o Machine Learning\n"
      ],
      "metadata": {
        "id": "g0NDI3xE_a9O"
      }
    },
    {
      "cell_type": "code",
      "source": [
        "from sklearn import tree as tr # Importando as biblicotecas\n",
        "\n",
        "modelo = tr.DecisionTreeClassifier(max_depth=2) # Definição do algoritimo\n",
        "\n",
        "X_atributos = df_dados_completos.drop(columns = \"loyalty_card\") # 1 argumento para o treinamento\n",
        "y_rotulos = df_dados_completos.loc[:,\"loyalty_card\"] # 2 argumento para o treinamento\n",
        "\n",
        "modelo_treinado = modelo.fit( X_atributos,y_rotulos ) # Treinamento do algoritimo\n",
        "\n",
        "tr.plot_tree( modelo_treinado, filled = True); # Plotando o algoritimo da arvore de decisão"
      ],
      "metadata": {
        "id": "QXgn3-xg_fHO"
      },
      "execution_count": null,
      "outputs": []
    },
    {
      "cell_type": "markdown",
      "source": [
        "# Apresentando os dados\n"
      ],
      "metadata": {
        "id": "FSvM1o5nE5At"
      }
    },
    {
      "cell_type": "code",
      "source": [
        "X_novo =  X_atributos.sample() # Colhendo dados de clientes dentro da base de dados\n",
        "prev = modelo_treinado.predict_proba(X_novo) # Testando clientes dentro da decision tree\n",
        "print(\"probabilidades \\t- Aurora: {:.0f}% \\n\\t\\t- Nova: {:.0f}% \\n\\t\\t- Star: {:.0f}% \".format(prev[0][0]*100,prev[0][1]*100,prev[0][2]*100)) # Exibindo as porcentagens do cliente aceitar as possiveis ofertas\n"
      ],
      "metadata": {
        "id": "JRkFCCh2E9Ee"
      },
      "execution_count": null,
      "outputs": []
    },
    {
      "cell_type": "markdown",
      "source": [
        "# Interface\n"
      ],
      "metadata": {
        "id": "e5UGvBTa_ai4"
      }
    },
    {
      "cell_type": "code",
      "source": [
        "!pip install gradio # Instalando a biblioteca gradio"
      ],
      "metadata": {
        "id": "62TzppqbCsPy"
      },
      "execution_count": null,
      "outputs": []
    },
    {
      "cell_type": "code",
      "source": [
        "import gradio as gr\n",
        "with gr.Blocks() as demo: # Construindo os blocos de informações para aparecer em uma tela\n",
        "\n",
        "  gr.Markdown(\"\"\"# Propensao de compra\"\"\") # Titulo do painel\n",
        "\n",
        "  with gr.Row():\n",
        "    with gr.Column():\n",
        "      gr.Markdown(\"\"\"# Coluna 1\"\"\")\n",
        "      with gr.Row():\n",
        "        gr.Markdown(\"\"\"# Linha 1\"\"\")\n",
        "    with gr.Column():\n",
        "      gr.Markdown(\"\"\"# Coluna 2\"\"\")\n",
        "\n",
        " # predict_btn.click() # Botao\n",
        "\n",
        "demo.launch(debug = True, share = False)"
      ],
      "metadata": {
        "id": "9P33om-1_eec"
      },
      "execution_count": null,
      "outputs": []
    }
  ]
}