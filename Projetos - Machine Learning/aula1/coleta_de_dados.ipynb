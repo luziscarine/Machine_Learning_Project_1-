{
  "nbformat": 4,
  "nbformat_minor": 0,
  "metadata": {
    "colab": {
      "provenance": [],
      "collapsed_sections": [
        "ZpRbGL1xTJcQ",
        "EtIcRn2l9U9d"
      ]
    },
    "kernelspec": {
      "name": "python3",
      "display_name": "Python 3"
    },
    "language_info": {
      "name": "python"
    }
  },
  "cells": [
    {
      "cell_type": "markdown",
      "source": [
        "#Importando os dados\n"
      ],
      "metadata": {
        "id": "ZpRbGL1xTJcQ"
      }
    },
    {
      "cell_type": "code",
      "source": [
        "# fecha a conexao com o banco de dados\n",
        "# conn.close()"
      ],
      "metadata": {
        "id": "hKjp1OfFw6A7"
      },
      "execution_count": null,
      "outputs": []
    },
    {
      "cell_type": "code",
      "source": [
        "# Abre a conexao com o banco de dados\n",
        "import sqlite3\n",
        "import pandas as pd\n",
        "conn = sqlite3.connect( 'database.db' )"
      ],
      "metadata": {
        "id": "3RnwZKH2v6du"
      },
      "execution_count": 79,
      "outputs": []
    },
    {
      "cell_type": "code",
      "source": [
        "# Consulta dos dados no banco de dados\n",
        "consulta = \"\"\"\n",
        "\n",
        "    SELECT\n",
        "      fa.loyalty_number,\n",
        "      fa.year,\n",
        "      fa.month,\n",
        "      fa.flights_booked\n",
        "    FROM\n",
        "      flight_activity fa\n",
        "    WHERE\n",
        "      fa.flights_booked > 2\n",
        "\"\"\"\n",
        "df_atividade = pd.read_sql_query( consulta, conn )\n",
        "\n",
        "# confere se deu certo\n",
        "df_atividade.head()"
      ],
      "metadata": {
        "id": "hDFIjwUawPVO"
      },
      "execution_count": null,
      "outputs": []
    },
    {
      "cell_type": "markdown",
      "source": [
        "# Exercicios propostos 1\n",
        "\n",
        "1. Selecione as colunas: loyalty_number, year, month, flights_booked, total_flights, distance e points_accumulated da tabela\n",
        "“flight_activity”.\n",
        "2. Selecione as mesmas colunas, porém, recupere somente as linhas cuja coluna distance é maior do que 2000, da tabela\n",
        "“flight_activity”\n",
        "3. Selecione as mesmas colunas, porém, recupere somente as linhas cuja coluna distance é maior do que 2000 e a coluna\n",
        "month é igual a 9, da tabela “flight_activity”\n",
        "4. Selecione as mesmas colunas, porém, recupere somente as linhas cuja coluna distance é maior do que 2000 ou a coluna\n",
        "points_accumulated é menor que 100, da tabela “flight_activity”.\n",
        "5. Selecione as mesmas colunas, porém, recupere somente as linhas cuja coluna loyalty_card é igual a Star da tabela\n",
        "“flight_loyalty_history”.\n"
      ],
      "metadata": {
        "id": "EtIcRn2l9U9d"
      }
    },
    {
      "cell_type": "code",
      "source": [
        "# Importando as bibliotecas\n",
        "\n",
        "import sqlite3\n",
        "import pandas as pd"
      ],
      "metadata": {
        "id": "rd8BVYWoAGgz"
      },
      "execution_count": null,
      "outputs": []
    },
    {
      "cell_type": "code",
      "source": [
        "# Exercicio 01\n",
        "conn = sqlite3.connect('database.db')\n",
        "\n",
        "consulta = \"\"\"\n",
        "\n",
        "    SELECT\n",
        "      fa.loyalty_number,\n",
        "      fa.year,\n",
        "      fa.month,\n",
        "      fa.flights_booked,\n",
        "      fa.total_flights,\n",
        "      fa.distance,\n",
        "      fa.points_accumulated\n",
        "    FROM\n",
        "      flight_activity fa\n",
        "\n",
        "\"\"\"\n",
        "\n",
        "df_atividade = pd.read_sql_query( consulta, conn )\n",
        "df_atividade.head()"
      ],
      "metadata": {
        "id": "tJZHOIJa5zKJ"
      },
      "execution_count": null,
      "outputs": []
    },
    {
      "cell_type": "code",
      "source": [
        "# Exercicio 02\n",
        "conn = sqlite3.connect('database.db')\n",
        "\n",
        "consulta = \"\"\"\n",
        "\n",
        "  SELECT\n",
        "     fa.loyalty_number,\n",
        "     fa.year,\n",
        "     fa.month,\n",
        "     fa.flights_booked,\n",
        "     fa.total_flights,\n",
        "     fa.distance,\n",
        "     fa.points_accumulated\n",
        "  FROM\n",
        "    flight_activity fa\n",
        "  WHERE\n",
        "    distance > 2000\n",
        "\n",
        "\"\"\"\n",
        "\n",
        "df_atividade = pd.read_sql_query( consulta, conn )\n",
        "df_atividade.head()"
      ],
      "metadata": {
        "id": "VGA9LxD2Aa47"
      },
      "execution_count": null,
      "outputs": []
    },
    {
      "cell_type": "code",
      "source": [
        "# Exercicio 03\n",
        "conn = sqlite3.connect('database.db')\n",
        "\n",
        "consulta = \"\"\"\n",
        "\n",
        "  SELECT\n",
        "     fa.loyalty_number,\n",
        "     fa.year,\n",
        "     fa.month,\n",
        "     fa.flights_booked,\n",
        "     fa.total_flights,\n",
        "     fa.distance,\n",
        "     fa.points_accumulated\n",
        "  FROM\n",
        "    flight_activity fa\n",
        "  WHERE\n",
        "    distance > 2000 & month = 9\n",
        "\n",
        "\"\"\"\n",
        "\n",
        "df_atividade = pd.read_sql_query( consulta, conn )\n",
        "df_atividade.head()"
      ],
      "metadata": {
        "colab": {
          "base_uri": "https://localhost:8080/",
          "height": 53
        },
        "id": "OVMqz2MyB6TE",
        "outputId": "c075ffdb-41d4-4385-c1d5-e741abe11ced"
      },
      "execution_count": null,
      "outputs": [
        {
          "output_type": "execute_result",
          "data": {
            "text/plain": [
              "Empty DataFrame\n",
              "Columns: [loyalty_number, year, month, flights_booked, total_flights, distance, points_accumulated]\n",
              "Index: []"
            ],
            "text/html": [
              "\n",
              "  <div id=\"df-bfb27017-6abc-4012-a3c4-82845cb21cfd\" class=\"colab-df-container\">\n",
              "    <div>\n",
              "<style scoped>\n",
              "    .dataframe tbody tr th:only-of-type {\n",
              "        vertical-align: middle;\n",
              "    }\n",
              "\n",
              "    .dataframe tbody tr th {\n",
              "        vertical-align: top;\n",
              "    }\n",
              "\n",
              "    .dataframe thead th {\n",
              "        text-align: right;\n",
              "    }\n",
              "</style>\n",
              "<table border=\"1\" class=\"dataframe\">\n",
              "  <thead>\n",
              "    <tr style=\"text-align: right;\">\n",
              "      <th></th>\n",
              "      <th>loyalty_number</th>\n",
              "      <th>year</th>\n",
              "      <th>month</th>\n",
              "      <th>flights_booked</th>\n",
              "      <th>total_flights</th>\n",
              "      <th>distance</th>\n",
              "      <th>points_accumulated</th>\n",
              "    </tr>\n",
              "  </thead>\n",
              "  <tbody>\n",
              "  </tbody>\n",
              "</table>\n",
              "</div>\n",
              "    <div class=\"colab-df-buttons\">\n",
              "\n",
              "  <div class=\"colab-df-container\">\n",
              "    <button class=\"colab-df-convert\" onclick=\"convertToInteractive('df-bfb27017-6abc-4012-a3c4-82845cb21cfd')\"\n",
              "            title=\"Convert this dataframe to an interactive table.\"\n",
              "            style=\"display:none;\">\n",
              "\n",
              "  <svg xmlns=\"http://www.w3.org/2000/svg\" height=\"24px\" viewBox=\"0 -960 960 960\">\n",
              "    <path d=\"M120-120v-720h720v720H120Zm60-500h600v-160H180v160Zm220 220h160v-160H400v160Zm0 220h160v-160H400v160ZM180-400h160v-160H180v160Zm440 0h160v-160H620v160ZM180-180h160v-160H180v160Zm440 0h160v-160H620v160Z\"/>\n",
              "  </svg>\n",
              "    </button>\n",
              "\n",
              "  <style>\n",
              "    .colab-df-container {\n",
              "      display:flex;\n",
              "      gap: 12px;\n",
              "    }\n",
              "\n",
              "    .colab-df-convert {\n",
              "      background-color: #E8F0FE;\n",
              "      border: none;\n",
              "      border-radius: 50%;\n",
              "      cursor: pointer;\n",
              "      display: none;\n",
              "      fill: #1967D2;\n",
              "      height: 32px;\n",
              "      padding: 0 0 0 0;\n",
              "      width: 32px;\n",
              "    }\n",
              "\n",
              "    .colab-df-convert:hover {\n",
              "      background-color: #E2EBFA;\n",
              "      box-shadow: 0px 1px 2px rgba(60, 64, 67, 0.3), 0px 1px 3px 1px rgba(60, 64, 67, 0.15);\n",
              "      fill: #174EA6;\n",
              "    }\n",
              "\n",
              "    .colab-df-buttons div {\n",
              "      margin-bottom: 4px;\n",
              "    }\n",
              "\n",
              "    [theme=dark] .colab-df-convert {\n",
              "      background-color: #3B4455;\n",
              "      fill: #D2E3FC;\n",
              "    }\n",
              "\n",
              "    [theme=dark] .colab-df-convert:hover {\n",
              "      background-color: #434B5C;\n",
              "      box-shadow: 0px 1px 3px 1px rgba(0, 0, 0, 0.15);\n",
              "      filter: drop-shadow(0px 1px 2px rgba(0, 0, 0, 0.3));\n",
              "      fill: #FFFFFF;\n",
              "    }\n",
              "  </style>\n",
              "\n",
              "    <script>\n",
              "      const buttonEl =\n",
              "        document.querySelector('#df-bfb27017-6abc-4012-a3c4-82845cb21cfd button.colab-df-convert');\n",
              "      buttonEl.style.display =\n",
              "        google.colab.kernel.accessAllowed ? 'block' : 'none';\n",
              "\n",
              "      async function convertToInteractive(key) {\n",
              "        const element = document.querySelector('#df-bfb27017-6abc-4012-a3c4-82845cb21cfd');\n",
              "        const dataTable =\n",
              "          await google.colab.kernel.invokeFunction('convertToInteractive',\n",
              "                                                    [key], {});\n",
              "        if (!dataTable) return;\n",
              "\n",
              "        const docLinkHtml = 'Like what you see? Visit the ' +\n",
              "          '<a target=\"_blank\" href=https://colab.research.google.com/notebooks/data_table.ipynb>data table notebook</a>'\n",
              "          + ' to learn more about interactive tables.';\n",
              "        element.innerHTML = '';\n",
              "        dataTable['output_type'] = 'display_data';\n",
              "        await google.colab.output.renderOutput(dataTable, element);\n",
              "        const docLink = document.createElement('div');\n",
              "        docLink.innerHTML = docLinkHtml;\n",
              "        element.appendChild(docLink);\n",
              "      }\n",
              "    </script>\n",
              "  </div>\n",
              "\n",
              "\n",
              "    </div>\n",
              "  </div>\n"
            ]
          },
          "metadata": {},
          "execution_count": 48
        }
      ]
    },
    {
      "cell_type": "code",
      "source": [
        "# Exercicio 4\n",
        "\n",
        "conn = sqlite3.connect('database.db')\n",
        "\n",
        "consulta = \"\"\"\n",
        "\n",
        "  SELECT\n",
        "     fa.loyalty_number,\n",
        "     fa.year,\n",
        "     fa.month,\n",
        "     fa.flights_booked,\n",
        "     fa.total_flights,\n",
        "     fa.distance,\n",
        "     fa.points_accumulated\n",
        "  FROM\n",
        "    flight_activity fa\n",
        "  WHERE\n",
        "    distance > 2000 | points_accumulated < 100\n",
        "\n",
        "\"\"\"\n",
        "df_atividade = pd.read_sql_query( consulta, conn )\n",
        "df_atividade.head()"
      ],
      "metadata": {
        "id": "Or6nRhxVCriM"
      },
      "execution_count": null,
      "outputs": []
    },
    {
      "cell_type": "code",
      "source": [
        "# Exercicio 5\n",
        "\n",
        "conn = sqlite3.connect('database.db')\n",
        "\n",
        "consulta1 = \"\"\"\n",
        "\n",
        "  SELECT\n",
        "     fa.loyalty_number,\n",
        "     fa.year,\n",
        "     fa.month,\n",
        "     fa.flights_booked,\n",
        "     fa.total_flights,\n",
        "     fa.distance,\n",
        "     fa.points_accumulated\n",
        "  FROM\n",
        "    flight_activity fa\n",
        "\n",
        "\n",
        "\"\"\"\n",
        "df_atividade1 = pd.read_sql_query( consulta1, conn )\n",
        "df_atividade1.head()\n",
        "\n",
        "consulta2 = \"\"\"\n",
        "\n",
        "  SELECT\n",
        "     *\n",
        "  FROM\n",
        "    flight_loyalty_history flh\n",
        "  WHERE\n",
        "    flh.loyalty_card = \"star\"\n",
        "\n",
        "\"\"\"\n",
        "\n",
        "df_atividade2 = pd.read_sql_query( consulta2, conn )\n",
        "df_atividade2"
      ],
      "metadata": {
        "id": "6VcVtDuKCwj8"
      },
      "execution_count": null,
      "outputs": []
    },
    {
      "cell_type": "markdown",
      "source": [
        "# Exercicios Propostos 2\n",
        "1. Selecione as colunas: loyalty_number, country, city, gender e loyalty_card, salary da tabela “flight_loyalty_history”\n",
        "2. Selecione as mesmas colunas, porém, recupere somente as linhas cuja coluna gender é igual a Female da tabela\n",
        "“flight_loyalty_history”.\n",
        "3. Selecione as colunas: loyalty_number, month, year, distance, flights_booked e total_flights da tabela “flight_activity”, e\n",
        "recupere somente as linhas cuja coluna “flights_booked” é maior do que 10 e a coluna “flights_booked” é menor do que 12,\n",
        "da tabela “flight_activity”\n"
      ],
      "metadata": {
        "id": "7nvj3n57d0_o"
      }
    },
    {
      "cell_type": "code",
      "source": [
        "# Exercicio 01\n",
        "conn = sqlite3.connect(' database.db ')\n",
        "\n",
        "consulta = \"\"\"\n",
        "\n",
        "  SELECT\n",
        "    *\n",
        "  FROM\n",
        "    flight_activity\n",
        "\n",
        "\"\"\"\n",
        "\n",
        "df_atividade = pd.read_sql_query( consulta, conn )\n"
      ],
      "metadata": {
        "colab": {
          "base_uri": "https://localhost:8080/",
          "height": 564
        },
        "id": "Nzj26LuYfpap",
        "outputId": "4a3e4f3a-47fc-4968-dae6-bcf83403a4a0"
      },
      "execution_count": 80,
      "outputs": [
        {
          "output_type": "error",
          "ename": "DatabaseError",
          "evalue": "Execution failed on sql '\n\n  SELECT\n    *\n  FROM \n    flight_activity\n\n': no such table: flight_activity",
          "traceback": [
            "\u001b[0;31m---------------------------------------------------------------------------\u001b[0m",
            "\u001b[0;31mOperationalError\u001b[0m                          Traceback (most recent call last)",
            "\u001b[0;32m/usr/local/lib/python3.10/dist-packages/pandas/io/sql.py\u001b[0m in \u001b[0;36mexecute\u001b[0;34m(self, *args, **kwargs)\u001b[0m\n\u001b[1;32m   2017\u001b[0m         \u001b[0;32mtry\u001b[0m\u001b[0;34m:\u001b[0m\u001b[0;34m\u001b[0m\u001b[0;34m\u001b[0m\u001b[0m\n\u001b[0;32m-> 2018\u001b[0;31m             \u001b[0mcur\u001b[0m\u001b[0;34m.\u001b[0m\u001b[0mexecute\u001b[0m\u001b[0;34m(\u001b[0m\u001b[0;34m*\u001b[0m\u001b[0margs\u001b[0m\u001b[0;34m,\u001b[0m \u001b[0;34m**\u001b[0m\u001b[0mkwargs\u001b[0m\u001b[0;34m)\u001b[0m\u001b[0;34m\u001b[0m\u001b[0;34m\u001b[0m\u001b[0m\n\u001b[0m\u001b[1;32m   2019\u001b[0m             \u001b[0;32mreturn\u001b[0m \u001b[0mcur\u001b[0m\u001b[0;34m\u001b[0m\u001b[0;34m\u001b[0m\u001b[0m\n",
            "\u001b[0;31mOperationalError\u001b[0m: no such table: flight_activity",
            "\nThe above exception was the direct cause of the following exception:\n",
            "\u001b[0;31mDatabaseError\u001b[0m                             Traceback (most recent call last)",
            "\u001b[0;32m<ipython-input-80-cad3c3803f6a>\u001b[0m in \u001b[0;36m<cell line: 13>\u001b[0;34m()\u001b[0m\n\u001b[1;32m     11\u001b[0m \"\"\"\n\u001b[1;32m     12\u001b[0m \u001b[0;34m\u001b[0m\u001b[0m\n\u001b[0;32m---> 13\u001b[0;31m \u001b[0mdf_atividade\u001b[0m \u001b[0;34m=\u001b[0m \u001b[0mpd\u001b[0m\u001b[0;34m.\u001b[0m\u001b[0mread_sql_query\u001b[0m\u001b[0;34m(\u001b[0m \u001b[0mconsulta\u001b[0m\u001b[0;34m,\u001b[0m \u001b[0mconn\u001b[0m \u001b[0;34m)\u001b[0m\u001b[0;34m\u001b[0m\u001b[0;34m\u001b[0m\u001b[0m\n\u001b[0m",
            "\u001b[0;32m/usr/local/lib/python3.10/dist-packages/pandas/io/sql.py\u001b[0m in \u001b[0;36mread_sql_query\u001b[0;34m(sql, con, index_col, coerce_float, params, parse_dates, chunksize, dtype)\u001b[0m\n\u001b[1;32m    395\u001b[0m     \"\"\"\n\u001b[1;32m    396\u001b[0m     \u001b[0mpandas_sql\u001b[0m \u001b[0;34m=\u001b[0m \u001b[0mpandasSQL_builder\u001b[0m\u001b[0;34m(\u001b[0m\u001b[0mcon\u001b[0m\u001b[0;34m)\u001b[0m\u001b[0;34m\u001b[0m\u001b[0;34m\u001b[0m\u001b[0m\n\u001b[0;32m--> 397\u001b[0;31m     return pandas_sql.read_query(\n\u001b[0m\u001b[1;32m    398\u001b[0m         \u001b[0msql\u001b[0m\u001b[0;34m,\u001b[0m\u001b[0;34m\u001b[0m\u001b[0;34m\u001b[0m\u001b[0m\n\u001b[1;32m    399\u001b[0m         \u001b[0mindex_col\u001b[0m\u001b[0;34m=\u001b[0m\u001b[0mindex_col\u001b[0m\u001b[0;34m,\u001b[0m\u001b[0;34m\u001b[0m\u001b[0;34m\u001b[0m\u001b[0m\n",
            "\u001b[0;32m/usr/local/lib/python3.10/dist-packages/pandas/io/sql.py\u001b[0m in \u001b[0;36mread_query\u001b[0;34m(self, sql, index_col, coerce_float, params, parse_dates, chunksize, dtype)\u001b[0m\n\u001b[1;32m   2076\u001b[0m \u001b[0;34m\u001b[0m\u001b[0m\n\u001b[1;32m   2077\u001b[0m         \u001b[0margs\u001b[0m \u001b[0;34m=\u001b[0m \u001b[0m_convert_params\u001b[0m\u001b[0;34m(\u001b[0m\u001b[0msql\u001b[0m\u001b[0;34m,\u001b[0m \u001b[0mparams\u001b[0m\u001b[0;34m)\u001b[0m\u001b[0;34m\u001b[0m\u001b[0;34m\u001b[0m\u001b[0m\n\u001b[0;32m-> 2078\u001b[0;31m         \u001b[0mcursor\u001b[0m \u001b[0;34m=\u001b[0m \u001b[0mself\u001b[0m\u001b[0;34m.\u001b[0m\u001b[0mexecute\u001b[0m\u001b[0;34m(\u001b[0m\u001b[0;34m*\u001b[0m\u001b[0margs\u001b[0m\u001b[0;34m)\u001b[0m\u001b[0;34m\u001b[0m\u001b[0;34m\u001b[0m\u001b[0m\n\u001b[0m\u001b[1;32m   2079\u001b[0m         \u001b[0mcolumns\u001b[0m \u001b[0;34m=\u001b[0m \u001b[0;34m[\u001b[0m\u001b[0mcol_desc\u001b[0m\u001b[0;34m[\u001b[0m\u001b[0;36m0\u001b[0m\u001b[0;34m]\u001b[0m \u001b[0;32mfor\u001b[0m \u001b[0mcol_desc\u001b[0m \u001b[0;32min\u001b[0m \u001b[0mcursor\u001b[0m\u001b[0;34m.\u001b[0m\u001b[0mdescription\u001b[0m\u001b[0;34m]\u001b[0m\u001b[0;34m\u001b[0m\u001b[0;34m\u001b[0m\u001b[0m\n\u001b[1;32m   2080\u001b[0m \u001b[0;34m\u001b[0m\u001b[0m\n",
            "\u001b[0;32m/usr/local/lib/python3.10/dist-packages/pandas/io/sql.py\u001b[0m in \u001b[0;36mexecute\u001b[0;34m(self, *args, **kwargs)\u001b[0m\n\u001b[1;32m   2028\u001b[0m \u001b[0;34m\u001b[0m\u001b[0m\n\u001b[1;32m   2029\u001b[0m             \u001b[0mex\u001b[0m \u001b[0;34m=\u001b[0m \u001b[0mDatabaseError\u001b[0m\u001b[0;34m(\u001b[0m\u001b[0;34mf\"Execution failed on sql '{args[0]}': {exc}\"\u001b[0m\u001b[0;34m)\u001b[0m\u001b[0;34m\u001b[0m\u001b[0;34m\u001b[0m\u001b[0m\n\u001b[0;32m-> 2030\u001b[0;31m             \u001b[0;32mraise\u001b[0m \u001b[0mex\u001b[0m \u001b[0;32mfrom\u001b[0m \u001b[0mexc\u001b[0m\u001b[0;34m\u001b[0m\u001b[0;34m\u001b[0m\u001b[0m\n\u001b[0m\u001b[1;32m   2031\u001b[0m \u001b[0;34m\u001b[0m\u001b[0m\n\u001b[1;32m   2032\u001b[0m     \u001b[0;34m@\u001b[0m\u001b[0mstaticmethod\u001b[0m\u001b[0;34m\u001b[0m\u001b[0;34m\u001b[0m\u001b[0m\n",
            "\u001b[0;31mDatabaseError\u001b[0m: Execution failed on sql '\n\n  SELECT\n    *\n  FROM \n    flight_activity\n\n': no such table: flight_activity"
          ]
        }
      ]
    }
  ]
}